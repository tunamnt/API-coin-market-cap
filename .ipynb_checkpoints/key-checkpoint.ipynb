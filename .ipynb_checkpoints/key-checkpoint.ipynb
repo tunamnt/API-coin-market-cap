{
 "cells": [
  {
   "cell_type": "code",
   "execution_count": 1,
   "id": "444e6df1",
   "metadata": {},
   "outputs": [],
   "source": [
    "API_KEY = \"0559a458-c170-4b47-85a2-5ccdae73514e\""
   ]
  }
 ],
 "metadata": {
  "kernelspec": {
   "display_name": "Python 3",
   "language": "python",
   "name": "python3"
  },
  "language_info": {
   "codemirror_mode": {
    "name": "ipython",
    "version": 3
   },
   "file_extension": ".py",
   "mimetype": "text/x-python",
   "name": "python",
   "nbconvert_exporter": "python",
   "pygments_lexer": "ipython3",
   "version": "3.8.8"
  }
 },
 "nbformat": 4,
 "nbformat_minor": 5
}
